{
  "nbformat": 4,
  "nbformat_minor": 0,
  "metadata": {
    "colab": {
      "provenance": []
    },
    "kernelspec": {
      "name": "python3",
      "display_name": "Python 3"
    },
    "language_info": {
      "name": "python"
    }
  },
  "cells": [
    {
      "cell_type": "markdown",
      "source": [
        "# Phase 1: Data Exploration and Assessment"
      ],
      "metadata": {
        "id": "WxwV84BTaTxR"
      }
    },
    {
      "cell_type": "markdown",
      "source": [
        "## Task 1.1: Initial Data Inspection"
      ],
      "metadata": {
        "id": "VUanWZFdaesZ"
      }
    },
    {
      "cell_type": "code",
      "execution_count": 87,
      "metadata": {
        "id": "ovx7hg3e-Qi2"
      },
      "outputs": [],
      "source": [
        "# Load Libraries\n",
        "import pandas as pd\n",
        "import numpy as np\n",
        "import matplotlib.pyplot as plt\n",
        "import seaborn as sns\n",
        "from datetime import datetime\n",
        "import warnings\n",
        "warnings.filterwarnings('ignore')"
      ]
    },
    {
      "cell_type": "code",
      "source": [
        "# Load the dataset using pandas\n",
        "bookings = pd.read_csv('/content/hotel_bookings.csv')"
      ],
      "metadata": {
        "id": "05ETrLwOAPLz"
      },
      "execution_count": 88,
      "outputs": []
    },
    {
      "cell_type": "code",
      "source": [
        "# Shape of the dataset\n",
        "print(\"Dataset shape (rows, columns):\", bookings.shape)"
      ],
      "metadata": {
        "colab": {
          "base_uri": "https://localhost:8080/"
        },
        "id": "81MysZxjAsDc",
        "outputId": "b3e3dbbd-76e1-4ab3-bd77-c4d98ac4bea5"
      },
      "execution_count": 89,
      "outputs": [
        {
          "output_type": "stream",
          "name": "stdout",
          "text": [
            "Dataset shape (rows, columns): (119390, 32)\n"
          ]
        }
      ]
    },
    {
      "cell_type": "code",
      "source": [
        "# Data types of each column\n",
        "print(\"\\nData Types of each column:\")\n",
        "print(bookings.dtypes)"
      ],
      "metadata": {
        "colab": {
          "base_uri": "https://localhost:8080/"
        },
        "id": "U9Gh6NMKA8ND",
        "outputId": "186bc62d-59bc-433c-89d0-89a588c4430c"
      },
      "execution_count": 90,
      "outputs": [
        {
          "output_type": "stream",
          "name": "stdout",
          "text": [
            "\n",
            "Data Types of each column:\n",
            "hotel                              object\n",
            "is_canceled                         int64\n",
            "lead_time                           int64\n",
            "arrival_date_year                   int64\n",
            "arrival_date_month                 object\n",
            "arrival_date_week_number            int64\n",
            "arrival_date_day_of_month           int64\n",
            "stays_in_weekend_nights             int64\n",
            "stays_in_week_nights                int64\n",
            "adults                              int64\n",
            "children                          float64\n",
            "babies                              int64\n",
            "meal                               object\n",
            "country                            object\n",
            "market_segment                     object\n",
            "distribution_channel               object\n",
            "is_repeated_guest                   int64\n",
            "previous_cancellations              int64\n",
            "previous_bookings_not_canceled      int64\n",
            "reserved_room_type                 object\n",
            "assigned_room_type                 object\n",
            "booking_changes                     int64\n",
            "deposit_type                       object\n",
            "agent                             float64\n",
            "company                           float64\n",
            "days_in_waiting_list                int64\n",
            "customer_type                      object\n",
            "adr                               float64\n",
            "required_car_parking_spaces         int64\n",
            "total_of_special_requests           int64\n",
            "reservation_status                 object\n",
            "reservation_status_date            object\n",
            "dtype: object\n"
          ]
        }
      ]
    },
    {
      "cell_type": "code",
      "source": [
        "# First 5 rows\n",
        "print(\"\\nFirst 5 rows:\")\n",
        "print(bookings.head())"
      ],
      "metadata": {
        "colab": {
          "base_uri": "https://localhost:8080/"
        },
        "id": "mvzjumRfBIl4",
        "outputId": "a8d5086c-c94b-41f6-ca6f-51ce7cca5de4"
      },
      "execution_count": 91,
      "outputs": [
        {
          "output_type": "stream",
          "name": "stdout",
          "text": [
            "\n",
            "First 5 rows:\n",
            "          hotel  is_canceled  lead_time  arrival_date_year arrival_date_month  \\\n",
            "0  Resort Hotel            0        342               2015               July   \n",
            "1  Resort Hotel            0        737               2015               July   \n",
            "2  Resort Hotel            0          7               2015               July   \n",
            "3  Resort Hotel            0         13               2015               July   \n",
            "4  Resort Hotel            0         14               2015               July   \n",
            "\n",
            "   arrival_date_week_number  arrival_date_day_of_month  \\\n",
            "0                        27                          1   \n",
            "1                        27                          1   \n",
            "2                        27                          1   \n",
            "3                        27                          1   \n",
            "4                        27                          1   \n",
            "\n",
            "   stays_in_weekend_nights  stays_in_week_nights  adults  ...  deposit_type  \\\n",
            "0                        0                     0       2  ...    No Deposit   \n",
            "1                        0                     0       2  ...    No Deposit   \n",
            "2                        0                     1       1  ...    No Deposit   \n",
            "3                        0                     1       1  ...    No Deposit   \n",
            "4                        0                     2       2  ...    No Deposit   \n",
            "\n",
            "   agent company days_in_waiting_list customer_type   adr  \\\n",
            "0    NaN     NaN                    0     Transient   0.0   \n",
            "1    NaN     NaN                    0     Transient   0.0   \n",
            "2    NaN     NaN                    0     Transient  75.0   \n",
            "3  304.0     NaN                    0     Transient  75.0   \n",
            "4  240.0     NaN                    0     Transient  98.0   \n",
            "\n",
            "   required_car_parking_spaces  total_of_special_requests  reservation_status  \\\n",
            "0                            0                          0           Check-Out   \n",
            "1                            0                          0           Check-Out   \n",
            "2                            0                          0           Check-Out   \n",
            "3                            0                          0           Check-Out   \n",
            "4                            0                          1           Check-Out   \n",
            "\n",
            "  reservation_status_date  \n",
            "0              2015-07-01  \n",
            "1              2015-07-01  \n",
            "2              2015-07-02  \n",
            "3              2015-07-02  \n",
            "4              2015-07-03  \n",
            "\n",
            "[5 rows x 32 columns]\n"
          ]
        }
      ]
    },
    {
      "cell_type": "code",
      "source": [
        "# Last 5 rows\n",
        "print(\"\\nLast 5 rows:\")\n",
        "print(bookings.tail())"
      ],
      "metadata": {
        "colab": {
          "base_uri": "https://localhost:8080/"
        },
        "id": "2zHhgYyxBjk7",
        "outputId": "af175948-858e-4a83-c039-50ed4904542e"
      },
      "execution_count": 92,
      "outputs": [
        {
          "output_type": "stream",
          "name": "stdout",
          "text": [
            "\n",
            "Last 5 rows:\n",
            "             hotel  is_canceled  lead_time  arrival_date_year  \\\n",
            "119385  City Hotel            0         23               2017   \n",
            "119386  City Hotel            0        102               2017   \n",
            "119387  City Hotel            0         34               2017   \n",
            "119388  City Hotel            0        109               2017   \n",
            "119389  City Hotel            0        205               2017   \n",
            "\n",
            "       arrival_date_month  arrival_date_week_number  \\\n",
            "119385             August                        35   \n",
            "119386             August                        35   \n",
            "119387             August                        35   \n",
            "119388             August                        35   \n",
            "119389             August                        35   \n",
            "\n",
            "        arrival_date_day_of_month  stays_in_weekend_nights  \\\n",
            "119385                         30                        2   \n",
            "119386                         31                        2   \n",
            "119387                         31                        2   \n",
            "119388                         31                        2   \n",
            "119389                         29                        2   \n",
            "\n",
            "        stays_in_week_nights  adults  ...  deposit_type  agent company  \\\n",
            "119385                     5       2  ...    No Deposit  394.0     NaN   \n",
            "119386                     5       3  ...    No Deposit    9.0     NaN   \n",
            "119387                     5       2  ...    No Deposit    9.0     NaN   \n",
            "119388                     5       2  ...    No Deposit   89.0     NaN   \n",
            "119389                     7       2  ...    No Deposit    9.0     NaN   \n",
            "\n",
            "       days_in_waiting_list customer_type     adr  \\\n",
            "119385                    0     Transient   96.14   \n",
            "119386                    0     Transient  225.43   \n",
            "119387                    0     Transient  157.71   \n",
            "119388                    0     Transient  104.40   \n",
            "119389                    0     Transient  151.20   \n",
            "\n",
            "        required_car_parking_spaces  total_of_special_requests  \\\n",
            "119385                            0                          0   \n",
            "119386                            0                          2   \n",
            "119387                            0                          4   \n",
            "119388                            0                          0   \n",
            "119389                            0                          2   \n",
            "\n",
            "        reservation_status reservation_status_date  \n",
            "119385           Check-Out              2017-09-06  \n",
            "119386           Check-Out              2017-09-07  \n",
            "119387           Check-Out              2017-09-07  \n",
            "119388           Check-Out              2017-09-07  \n",
            "119389           Check-Out              2017-09-07  \n",
            "\n",
            "[5 rows x 32 columns]\n"
          ]
        }
      ]
    },
    {
      "cell_type": "code",
      "source": [
        "# Basic statistical summary\n",
        "print(\"\\nBasic statistical summary:\\n\")\n",
        "print(bookings.describe())"
      ],
      "metadata": {
        "colab": {
          "base_uri": "https://localhost:8080/"
        },
        "id": "KGK-7EsECPuq",
        "outputId": "5d836e29-1b6f-41ec-b6ee-a7f9b63c4f85"
      },
      "execution_count": 94,
      "outputs": [
        {
          "output_type": "stream",
          "name": "stdout",
          "text": [
            "\n",
            "Basic statistical summary:\n",
            "\n",
            "         is_canceled      lead_time  arrival_date_year  \\\n",
            "count  119390.000000  119390.000000      119390.000000   \n",
            "mean        0.370416     104.011416        2016.156554   \n",
            "std         0.482918     106.863097           0.707476   \n",
            "min         0.000000       0.000000        2015.000000   \n",
            "25%         0.000000      18.000000        2016.000000   \n",
            "50%         0.000000      69.000000        2016.000000   \n",
            "75%         1.000000     160.000000        2017.000000   \n",
            "max         1.000000     737.000000        2017.000000   \n",
            "\n",
            "       arrival_date_week_number  arrival_date_day_of_month  \\\n",
            "count             119390.000000              119390.000000   \n",
            "mean                  27.165173                  15.798241   \n",
            "std                   13.605138                   8.780829   \n",
            "min                    1.000000                   1.000000   \n",
            "25%                   16.000000                   8.000000   \n",
            "50%                   28.000000                  16.000000   \n",
            "75%                   38.000000                  23.000000   \n",
            "max                   53.000000                  31.000000   \n",
            "\n",
            "       stays_in_weekend_nights  stays_in_week_nights         adults  \\\n",
            "count            119390.000000         119390.000000  119390.000000   \n",
            "mean                  0.927599              2.500302       1.856403   \n",
            "std                   0.998613              1.908286       0.579261   \n",
            "min                   0.000000              0.000000       0.000000   \n",
            "25%                   0.000000              1.000000       2.000000   \n",
            "50%                   1.000000              2.000000       2.000000   \n",
            "75%                   2.000000              3.000000       2.000000   \n",
            "max                  19.000000             50.000000      55.000000   \n",
            "\n",
            "            children         babies  is_repeated_guest  \\\n",
            "count  119386.000000  119390.000000      119390.000000   \n",
            "mean        0.103890       0.007949           0.031912   \n",
            "std         0.398561       0.097436           0.175767   \n",
            "min         0.000000       0.000000           0.000000   \n",
            "25%         0.000000       0.000000           0.000000   \n",
            "50%         0.000000       0.000000           0.000000   \n",
            "75%         0.000000       0.000000           0.000000   \n",
            "max        10.000000      10.000000           1.000000   \n",
            "\n",
            "       previous_cancellations  previous_bookings_not_canceled  \\\n",
            "count           119390.000000                   119390.000000   \n",
            "mean                 0.087118                        0.137097   \n",
            "std                  0.844336                        1.497437   \n",
            "min                  0.000000                        0.000000   \n",
            "25%                  0.000000                        0.000000   \n",
            "50%                  0.000000                        0.000000   \n",
            "75%                  0.000000                        0.000000   \n",
            "max                 26.000000                       72.000000   \n",
            "\n",
            "       booking_changes          agent      company  days_in_waiting_list  \\\n",
            "count    119390.000000  103050.000000  6797.000000         119390.000000   \n",
            "mean          0.221124      86.693382   189.266735              2.321149   \n",
            "std           0.652306     110.774548   131.655015             17.594721   \n",
            "min           0.000000       1.000000     6.000000              0.000000   \n",
            "25%           0.000000       9.000000    62.000000              0.000000   \n",
            "50%           0.000000      14.000000   179.000000              0.000000   \n",
            "75%           0.000000     229.000000   270.000000              0.000000   \n",
            "max          21.000000     535.000000   543.000000            391.000000   \n",
            "\n",
            "                 adr  required_car_parking_spaces  total_of_special_requests  \n",
            "count  119390.000000                119390.000000              119390.000000  \n",
            "mean      101.831122                     0.062518                   0.571363  \n",
            "std        50.535790                     0.245291                   0.792798  \n",
            "min        -6.380000                     0.000000                   0.000000  \n",
            "25%        69.290000                     0.000000                   0.000000  \n",
            "50%        94.575000                     0.000000                   0.000000  \n",
            "75%       126.000000                     0.000000                   1.000000  \n",
            "max      5400.000000                     8.000000                   5.000000  \n"
          ]
        }
      ]
    },
    {
      "cell_type": "markdown",
      "source": [
        "## Task 1.2: Missing Value Analysis"
      ],
      "metadata": {
        "id": "zlTETDYvcru8"
      }
    },
    {
      "cell_type": "code",
      "source": [
        "# Analyze missing data patterns\n",
        "def analyze_missing_patterns(bookings):\n",
        "    \"\"\"\n",
        "    Analyze patterns of missing data to understand the mechanism\n",
        "    \"\"\"\n",
        "    missing_data = bookings.isnull().sum()\n",
        "    missing_percent = (missing_data / len(bookings)) * 100\n",
        "\n",
        "    missing_table = pd.DataFrame({\n",
        "        'Missing_Count': missing_data,\n",
        "        'Missing_Percentage': missing_percent\n",
        "    }).sort_values('Missing_Count', ascending=False)\n",
        "\n",
        "    print(\"Missing Value Report:\")\n",
        "    print(missing_table[missing_table['Missing_Count'] > 0])\n",
        "\n",
        "    # Check if missing data is correlated\n",
        "    print(\"\\nMissing Data Correlation (Absolute Correlation > 0.1):\")\n",
        "    missing_corr = bookings.isnull().corr()\n",
        "\n",
        "    # Iterate through the correlation matrix to find and print correlations > 0.1\n",
        "    significant_correlations = []\n",
        "    for i in range(len(missing_corr.columns)):\n",
        "        for j in range(i):\n",
        "            if abs(missing_corr.iloc[i, j]) > 0.1:\n",
        "                col1 = missing_corr.columns[i]\n",
        "                col2 = missing_corr.columns[j]\n",
        "                correlation_value = missing_corr.iloc[i, j]\n",
        "                significant_correlations.append((col1, col2, correlation_value))\n",
        "\n",
        "    if significant_correlations:\n",
        "        for col1, col2, correlation_value in significant_correlations:\n",
        "            print(f\"Correlation between missingness of '{col1}' and '{col2}': {correlation_value:.4f}\")\n",
        "    else:\n",
        "        print(\"No significant correlations found (absolute correlation > 0.1)\")\n",
        "\n",
        "    return missing_table\n",
        "\n",
        "missing_summary = analyze_missing_patterns(bookings)"
      ],
      "metadata": {
        "colab": {
          "base_uri": "https://localhost:8080/"
        },
        "id": "UeD9EQ5lC5Aq",
        "outputId": "7d237424-5d0d-4807-e983-7bfc62163b29"
      },
      "execution_count": 95,
      "outputs": [
        {
          "output_type": "stream",
          "name": "stdout",
          "text": [
            "Missing Value Report:\n",
            "          Missing_Count  Missing_Percentage\n",
            "company          112593           94.306893\n",
            "agent             16340           13.686238\n",
            "country             488            0.408744\n",
            "children              4            0.003350\n",
            "\n",
            "Missing Data Correlation (Absolute Correlation > 0.1):\n",
            "Correlation between missingness of 'agent' and 'country': 0.1021\n",
            "Correlation between missingness of 'company' and 'agent': -0.5942\n"
          ]
        }
      ]
    },
    {
      "cell_type": "code",
      "source": [
        "# Visualize missing data patterns\n",
        "plt.figure(figsize=(12, 6))\n",
        "sns.heatmap(bookings.isnull(), cbar=True, yticklabels=False, cmap='viridis')\n",
        "plt.title('Missing Data Heatmap')\n",
        "plt.show()"
      ],
      "metadata": {
        "colab": {
          "base_uri": "https://localhost:8080/",
          "height": 759
        },
        "id": "e1T1ZGDeGi2K",
        "outputId": "5036b19d-0579-4cbe-d5e3-6acc29a76616"
      },
      "execution_count": 96,
      "outputs": [
        {
          "output_type": "display_data",
          "data": {
            "text/plain": [
              "<Figure size 1200x600 with 2 Axes>"
            ],
            "image/png": "[encoded data removed]"
          },
          "metadata": {}
        }
      ]
    },
    {
      "cell_type": "markdown",
      "source": [
        "## Task 1.3: Data Quality Assessment"
      ],
      "metadata": {
        "id": "dNtdKOkma7d_"
      }
    },
    {
      "cell_type": "code",
      "source": [
        "# Count exact duplicate rows\n",
        "duplicate_count = bookings.duplicated().sum()\n",
        "print(f\"🔁 Number of exact duplicate rows: {duplicate_count}\")\n",
        "\n",
        "# Preview some duplicate rows if they exist\n",
        "if duplicate_count > 0:\n",
        "    print(bookings[bookings.duplicated()].head())"
      ],
      "metadata": {
        "colab": {
          "base_uri": "https://localhost:8080/"
        },
        "id": "YmCujfolaMav",
        "outputId": "50fc7cd1-d1e7-4f88-c3d8-925ce7ebf44d"
      },
      "execution_count": 97,
      "outputs": [
        {
          "output_type": "stream",
          "name": "stdout",
          "text": [
            "🔁 Number of exact duplicate rows: 31994\n",
            "            hotel  is_canceled  lead_time  arrival_date_year  \\\n",
            "5    Resort Hotel            0         14               2015   \n",
            "22   Resort Hotel            0         72               2015   \n",
            "43   Resort Hotel            0         70               2015   \n",
            "138  Resort Hotel            1          5               2015   \n",
            "200  Resort Hotel            0          0               2015   \n",
            "\n",
            "    arrival_date_month  arrival_date_week_number  arrival_date_day_of_month  \\\n",
            "5                 July                        27                          1   \n",
            "22                July                        27                          1   \n",
            "43                July                        27                          2   \n",
            "138               July                        28                          5   \n",
            "200               July                        28                          7   \n",
            "\n",
            "     stays_in_weekend_nights  stays_in_week_nights  adults  ...  deposit_type  \\\n",
            "5                          0                     2       2  ...    No Deposit   \n",
            "22                         2                     4       2  ...    No Deposit   \n",
            "43                         2                     3       2  ...    No Deposit   \n",
            "138                        1                     0       2  ...    No Deposit   \n",
            "200                        0                     1       1  ...    No Deposit   \n",
            "\n",
            "     agent company days_in_waiting_list customer_type     adr  \\\n",
            "5    240.0     NaN                    0     Transient   98.00   \n",
            "22   250.0     NaN                    0     Transient   84.67   \n",
            "43   250.0     NaN                    0     Transient  137.00   \n",
            "138  240.0     NaN                    0     Transient   97.00   \n",
            "200  240.0     NaN                    0     Transient  109.80   \n",
            "\n",
            "     required_car_parking_spaces  total_of_special_requests  \\\n",
            "5                              0                          1   \n",
            "22                             0                          1   \n",
            "43                             0                          1   \n",
            "138                            0                          0   \n",
            "200                            0                          3   \n",
            "\n",
            "     reservation_status reservation_status_date  \n",
            "5             Check-Out              2015-07-03  \n",
            "22            Check-Out              2015-07-07  \n",
            "43            Check-Out              2015-07-07  \n",
            "138            Canceled              2015-07-01  \n",
            "200           Check-Out              2015-07-08  \n",
            "\n",
            "[5 rows x 32 columns]\n"
          ]
        }
      ]
    },
    {
      "cell_type": "code",
      "source": [
        "# List of numerical columns to check outliers\n",
        "num_cols = ['lead_time', 'stays_in_weekend_nights', 'stays_in_week_nights', 'adults', 'children', 'babies', 'adr']\n",
        "\n",
        "# Plot boxplots for each column\n",
        "plt.figure(figsize=(16, 12))\n",
        "for i, col in enumerate(num_cols, 1):\n",
        "    plt.subplot(3, 3, i)\n",
        "    sns.boxplot(y=bookings[col])\n",
        "    plt.title(f\"Boxplot of {col}\")\n",
        "plt.tight_layout()\n",
        "plt.show()"
      ],
      "metadata": {
        "colab": {
          "base_uri": "https://localhost:8080/",
          "height": 947
        },
        "id": "nDkByRYSd47n",
        "outputId": "90ce7f8a-adbf-44e9-d149-56727471aa08"
      },
      "execution_count": 98,
      "outputs": [
        {
          "output_type": "display_data",
          "data": {
            "text/plain": [
              "<Figure size 1600x1200 with 7 Axes>"
            ],
            "image/png": "[encoded data removed]"
          },
          "metadata": {}
        }
      ]
    },
    {
      "cell_type": "code",
      "source": [
        "# Check unique values in selected categorical columns\n",
        "cat_cols = ['meal', 'market_segment', 'distribution_channel', 'reserved_room_type', 'assigned_room_type']\n",
        "\n",
        "for col in cat_cols:\n",
        "    print(f\"\\nUnique values in '{col}':\")\n",
        "    print(bookings[col].unique())"
      ],
      "metadata": {
        "colab": {
          "base_uri": "https://localhost:8080/"
        },
        "id": "nubJPCcQqxrQ",
        "outputId": "f34f80bb-4656-45fe-b0b6-31ceb9b11d8f"
      },
      "execution_count": 99,
      "outputs": [
        {
          "output_type": "stream",
          "name": "stdout",
          "text": [
            "\n",
            "Unique values in 'meal':\n",
            "['BB' 'FB' 'HB' 'SC' 'Undefined']\n",
            "\n",
            "Unique values in 'market_segment':\n",
            "['Direct' 'Corporate' 'Online TA' 'Offline TA/TO' 'Complementary' 'Groups'\n",
            " 'Undefined' 'Aviation']\n",
            "\n",
            "Unique values in 'distribution_channel':\n",
            "['Direct' 'Corporate' 'TA/TO' 'Undefined' 'GDS']\n",
            "\n",
            "Unique values in 'reserved_room_type':\n",
            "['C' 'A' 'D' 'E' 'G' 'F' 'H' 'L' 'P' 'B']\n",
            "\n",
            "Unique values in 'assigned_room_type':\n",
            "['C' 'A' 'D' 'E' 'G' 'F' 'I' 'B' 'H' 'P' 'L' 'K']\n"
          ]
        }
      ]
    },
    {
      "cell_type": "code",
      "source": [
        "# Check for Illogical or Impossible Values\n",
        "# Guests = 0?\n",
        "bookings['total_guests'] = bookings['adults'] + bookings['children'] + bookings['babies']\n",
        "invalid_guests = bookings[bookings['total_guests'] == 0]\n",
        "print(f\"\\nBookings with zero guests: {len(invalid_guests)}\")\n",
        "print(invalid_guests[['adults', 'children', 'babies']].head())\n",
        "\n",
        "# Check for negative values\n",
        "negative_values = bookings[(bookings['lead_time'] < 0) |\n",
        "                     (bookings['stays_in_weekend_nights'] < 0) |\n",
        "                     (bookings['stays_in_week_nights'] < 0) |\n",
        "                     (bookings['adr'] < 0)]\n",
        "print(f\"\\nRows with negative values: {len(negative_values)}\")"
      ],
      "metadata": {
        "colab": {
          "base_uri": "https://localhost:8080/"
        },
        "id": "IGqTFkq6rl6H",
        "outputId": "638d015c-3bcf-4ac2-9d66-e700840be324"
      },
      "execution_count": 100,
      "outputs": [
        {
          "output_type": "stream",
          "name": "stdout",
          "text": [
            "\n",
            "Bookings with zero guests: 180\n",
            "      adults  children  babies\n",
            "2224       0       0.0       0\n",
            "2409       0       0.0       0\n",
            "3181       0       0.0       0\n",
            "3684       0       0.0       0\n",
            "3708       0       0.0       0\n",
            "\n",
            "Rows with negative values: 1\n"
          ]
        }
      ]
    },
    {
      "cell_type": "markdown",
      "source": [
        "# Phase 2: Data Cleaning Implementation"
      ],
      "metadata": {
        "id": "IS7A86Q7tOz4"
      }
    },
    {
      "cell_type": "markdown",
      "source": [
        "## Task 2.1: Handling Missing Values"
      ],
      "metadata": {
        "id": "_PFNh2zxtUqH"
      }
    },
    {
      "cell_type": "code",
      "source": [
        "# Replace children column NaN with 0\n",
        "\n",
        "# Before filling\n",
        "print(f\"Missing 'children' before: {bookings['children'].isnull().sum()}\")\n",
        "\n",
        "# Fill with 0\n",
        "bookings['children'].fillna(0, inplace=True)\n",
        "\n",
        "# After filling\n",
        "print(f\"Missing 'children' after: {bookings['children'].isnull().sum()}\")"
      ],
      "metadata": {
        "colab": {
          "base_uri": "https://localhost:8080/"
        },
        "id": "FtU3eN9utGIw",
        "outputId": "0eda1dca-8167-40d7-8f48-c00a3397cb90"
      },
      "execution_count": 101,
      "outputs": [
        {
          "output_type": "stream",
          "name": "stdout",
          "text": [
            "Missing 'children' before: 4\n",
            "Missing 'children' after: 0\n"
          ]
        }
      ]
    },
    {
      "cell_type": "code",
      "source": [
        "# Replace agent column NaN with 0\n",
        "\n",
        "# Before\n",
        "print(f\"Missing 'agent' before: {bookings['agent'].isnull().sum()}\")\n",
        "\n",
        "# Fill with 0 (and cast to integer for consistency)\n",
        "bookings['agent'].fillna(0, inplace=True)\n",
        "bookings['agent'] = bookings['agent'].astype(int)\n",
        "\n",
        "# After\n",
        "print(f\"Missing 'agent' after: {bookings['agent'].isnull().sum()}\")"
      ],
      "metadata": {
        "colab": {
          "base_uri": "https://localhost:8080/"
        },
        "id": "zmD0PFYcyGyS",
        "outputId": "58fe7f84-1b13-4028-82b9-be444530553c"
      },
      "execution_count": 102,
      "outputs": [
        {
          "output_type": "stream",
          "name": "stdout",
          "text": [
            "Missing 'agent' before: 16340\n",
            "Missing 'agent' after: 0\n"
          ]
        }
      ]
    },
    {
      "cell_type": "code",
      "source": [
        "# Replace company column NaN with 0\n",
        "\n",
        "# Before\n",
        "print(f\"Missing 'company' before: {bookings['company'].isnull().sum()}\")\n",
        "\n",
        "# Fill with 0 and convert to int\n",
        "bookings['company'].fillna(0, inplace=True)\n",
        "bookings['company'] = bookings['company'].astype(int)\n",
        "\n",
        "# After\n",
        "print(f\"Missing 'company' after: {bookings['company'].isnull().sum()}\")"
      ],
      "metadata": {
        "colab": {
          "base_uri": "https://localhost:8080/"
        },
        "id": "u9y8f_i5yjWe",
        "outputId": "ab38487b-c3b2-459e-9a02-45f02de9c48f"
      },
      "execution_count": 103,
      "outputs": [
        {
          "output_type": "stream",
          "name": "stdout",
          "text": [
            "Missing 'company' before: 112593\n",
            "Missing 'company' after: 0\n"
          ]
        }
      ]
    },
    {
      "cell_type": "code",
      "source": [
        "# Check all remaining missing values\n",
        "print(\"Remaining Missing Values:\")\n",
        "print(bookings.isnull().sum()[bookings.isnull().sum() > 0])"
      ],
      "metadata": {
        "colab": {
          "base_uri": "https://localhost:8080/"
        },
        "id": "gQVoQfu-zIk_",
        "outputId": "8fcbbac3-4e23-41bd-d81a-78f6b0f26193"
      },
      "execution_count": 104,
      "outputs": [
        {
          "output_type": "stream",
          "name": "stdout",
          "text": [
            "Remaining Missing Values:\n",
            "country         488\n",
            "total_guests      4\n",
            "dtype: int64\n"
          ]
        }
      ]
    },
    {
      "cell_type": "code",
      "source": [
        "# Recalculate after handling missing values\n",
        "bookings['total_guests'] = bookings['adults'] + bookings['children'] + bookings['babies']\n",
        "\n",
        "# Confirm no more missing values\n",
        "print(\"Remaining Missing Values:\")\n",
        "print(bookings.isnull().sum()[bookings.isnull().sum() > 0])"
      ],
      "metadata": {
        "colab": {
          "base_uri": "https://localhost:8080/"
        },
        "id": "WsI_xbZU0Pul",
        "outputId": "92fd4e7d-7d5a-47ee-a95d-647dde28437c"
      },
      "execution_count": 105,
      "outputs": [
        {
          "output_type": "stream",
          "name": "stdout",
          "text": [
            "Remaining Missing Values:\n",
            "country    488\n",
            "dtype: int64\n"
          ]
        }
      ]
    },
    {
      "cell_type": "markdown",
      "source": [
        "## Task 2.2: Duplicate Detection and Removal"
      ],
      "metadata": {
        "id": "sDOxydVU01Eo"
      }
    },
    {
      "cell_type": "code",
      "source": [
        "# Check for exact duplicates\n",
        "duplicates = bookings.duplicated()\n",
        "print(f\"Number of exact duplicates: {duplicates.sum()}\")\n",
        "\n",
        "# View first few duplicate rows\n",
        "bookings[duplicates].head()"
      ],
      "metadata": {
        "colab": {
          "base_uri": "https://localhost:8080/",
          "height": 360
        },
        "id": "FgxC56hV04K4",
        "outputId": "f7ccec57-2d1f-4434-9e53-6f9ceae5f67d"
      },
      "execution_count": 106,
      "outputs": [
        {
          "output_type": "stream",
          "name": "stdout",
          "text": [
            "Number of exact duplicates: 31994\n"
          ]
        },
        {
          "output_type": "execute_result",
          "data": {
            "text/plain": [
              "            hotel  is_canceled  lead_time  arrival_date_year  \\\n",
              "5    Resort Hotel            0         14               2015   \n",
              "22   Resort Hotel            0         72               2015   \n",
              "43   Resort Hotel            0         70               2015   \n",
              "138  Resort Hotel            1          5               2015   \n",
              "200  Resort Hotel            0          0               2015   \n",
              "\n",
              "    arrival_date_month  arrival_date_week_number  arrival_date_day_of_month  \\\n",
              "5                 July                        27                          1   \n",
              "22                July                        27                          1   \n",
              "43                July                        27                          2   \n",
              "138               July                        28                          5   \n",
              "200               July                        28                          7   \n",
              "\n",
              "     stays_in_weekend_nights  stays_in_week_nights  adults  ...  agent  \\\n",
              "5                          0                     2       2  ...    240   \n",
              "22                         2                     4       2  ...    250   \n",
              "43                         2                     3       2  ...    250   \n",
              "138                        1                     0       2  ...    240   \n",
              "200                        0                     1       1  ...    240   \n",
              "\n",
              "     company days_in_waiting_list customer_type     adr  \\\n",
              "5          0                    0     Transient   98.00   \n",
              "22         0                    0     Transient   84.67   \n",
              "43         0                    0     Transient  137.00   \n",
              "138        0                    0     Transient   97.00   \n",
              "200        0                    0     Transient  109.80   \n",
              "\n",
              "    required_car_parking_spaces  total_of_special_requests  \\\n",
              "5                             0                          1   \n",
              "22                            0                          1   \n",
              "43                            0                          1   \n",
              "138                           0                          0   \n",
              "200                           0                          3   \n",
              "\n",
              "     reservation_status  reservation_status_date total_guests  \n",
              "5             Check-Out               2015-07-03          2.0  \n",
              "22            Check-Out               2015-07-07          2.0  \n",
              "43            Check-Out               2015-07-07          2.0  \n",
              "138            Canceled               2015-07-01          2.0  \n",
              "200           Check-Out               2015-07-08          1.0  \n",
              "\n",
              "[5 rows x 33 columns]"
            ],
            "text/html": [
              "\n",
              "  <div id=\"df-385a511a-115c-4392-b891-cd7cbd33cb71\" class=\"colab-df-container\">\n",
              "    <div>\n",
              "<style scoped>\n",
              "    .dataframe tbody tr th:only-of-type {\n",
              "        vertical-align: middle;\n",
              "    }\n",
              "\n",
              "    .dataframe tbody tr th {\n",
              "        vertical-align: top;\n",
              "    }\n",
              "\n",
              "    .dataframe thead th {\n",
              "        text-align: right;\n",
              "    }\n",
              "</style>\n",
              "<table border=\"1\" class=\"dataframe\">\n",
              "  <thead>\n",
              "    <tr style=\"text-align: right;\">\n",
              "      <th></th>\n",
              "      <th>hotel</th>\n",
              "      <th>is_canceled</th>\n",
              "      <th>lead_time</th>\n",
              "      <th>arrival_date_year</th>\n",
              "      <th>arrival_date_month</th>\n",
              "      <th>arrival_date_week_number</th>\n",
              "      <th>arrival_date_day_of_month</th>\n",
              "      <th>stays_in_weekend_nights</th>\n",
              "      <th>stays_in_week_nights</th>\n",
              "      <th>adults</th>\n",
              "      <th>...</th>\n",
              "      <th>agent</th>\n",
              "      <th>company</th>\n",
              "      <th>days_in_waiting_list</th>\n",
              "      <th>customer_type</th>\n",
              "      <th>adr</th>\n",
              "      <th>required_car_parking_spaces</th>\n",
              "      <th>total_of_special_requests</th>\n",
              "      <th>reservation_status</th>\n",
              "      <th>reservation_status_date</th>\n",
              "      <th>total_guests</th>\n",
              "    </tr>\n",
              "  </thead>\n",
              "  <tbody>\n",
              "    <tr>\n",
              "      <th>5</th>\n",
              "      <td>Resort Hotel</td>\n",
              "      <td>0</td>\n",
              "      <td>14</td>\n",
              "      <td>2015</td>\n",
              "      <td>July</td>\n",
              "      <td>27</td>\n",
              "      <td>1</td>\n",
              "      <td>0</td>\n",
              "      <td>2</td>\n",
              "      <td>2</td>\n",
              "      <td>...</td>\n",
              "      <td>240</td>\n",
              "      <td>0</td>\n",
              "      <td>0</td>\n",
              "      <td>Transient</td>\n",
              "      <td>98.00</td>\n",
              "      <td>0</td>\n",
              "      <td>1</td>\n",
              "      <td>Check-Out</td>\n",
              "      <td>2015-07-03</td>\n",
              "      <td>2.0</td>\n",
              "    </tr>\n",
              "    <tr>\n",
              "      <th>22</th>\n",
              "      <td>Resort Hotel</td>\n",
              "      <td>0</td>\n",
              "      <td>72</td>\n",
              "      <td>2015</td>\n",
              "      <td>July</td>\n",
              "      <td>27</td>\n",
              "      <td>1</td>\n",
              "      <td>2</td>\n",
              "      <td>4</td>\n",
              "      <td>2</td>\n",
              "      <td>...</td>\n",
              "      <td>250</td>\n",
              "      <td>0</td>\n",
              "      <td>0</td>\n",
              "      <td>Transient</td>\n",
              "      <td>84.67</td>\n",
              "      <td>0</td>\n",
              "      <td>1</td>\n",
              "      <td>Check-Out</td>\n",
              "      <td>2015-07-07</td>\n",
              "      <td>2.0</td>\n",
              "    </tr>\n",
              "    <tr>\n",
              "      <th>43</th>\n",
              "      <td>Resort Hotel</td>\n",
              "      <td>0</td>\n",
              "      <td>70</td>\n",
              "      <td>2015</td>\n",
              "      <td>July</td>\n",
              "      <td>27</td>\n",
              "      <td>2</td>\n",
              "      <td>2</td>\n",
              "      <td>3</td>\n",
              "      <td>2</td>\n",
              "      <td>...</td>\n",
              "      <td>250</td>\n",
              "      <td>0</td>\n",
              "      <td>0</td>\n",
              "      <td>Transient</td>\n",
              "      <td>137.00</td>\n",
              "      <td>0</td>\n",
              "      <td>1</td>\n",
              "      <td>Check-Out</td>\n",
              "      <td>2015-07-07</td>\n",
              "      <td>2.0</td>\n",
              "    </tr>\n",
              "    <tr>\n",
              "      <th>138</th>\n",
              "      <td>Resort Hotel</td>\n",
              "      <td>1</td>\n",
              "      <td>5</td>\n",
              "      <td>2015</td>\n",
              "      <td>July</td>\n",
              "      <td>28</td>\n",
              "      <td>5</td>\n",
              "      <td>1</td>\n",
              "      <td>0</td>\n",
              "      <td>2</td>\n",
              "      <td>...</td>\n",
              "      <td>240</td>\n",
              "      <td>0</td>\n",
              "      <td>0</td>\n",
              "      <td>Transient</td>\n",
              "      <td>97.00</td>\n",
              "      <td>0</td>\n",
              "      <td>0</td>\n",
              "      <td>Canceled</td>\n",
              "      <td>2015-07-01</td>\n",
              "      <td>2.0</td>\n",
              "    </tr>\n",
              "    <tr>\n",
              "      <th>200</th>\n",
              "      <td>Resort Hotel</td>\n",
              "      <td>0</td>\n",
              "      <td>0</td>\n",
              "      <td>2015</td>\n",
              "      <td>July</td>\n",
              "      <td>28</td>\n",
              "      <td>7</td>\n",
              "      <td>0</td>\n",
              "      <td>1</td>\n",
              "      <td>1</td>\n",
              "      <td>...</td>\n",
              "      <td>240</td>\n",
              "      <td>0</td>\n",
              "      <td>0</td>\n",
              "      <td>Transient</td>\n",
              "      <td>109.80</td>\n",
              "      <td>0</td>\n",
              "      <td>3</td>\n",
              "      <td>Check-Out</td>\n",
              "      <td>2015-07-08</td>\n",
              "      <td>1.0</td>\n",
              "    </tr>\n",
              "  </tbody>\n",
              "</table>\n",
              "<p>5 rows × 33 columns</p>\n",
              "</div>\n",
              "    <div class=\"colab-df-buttons\">\n",
              "\n",
              "  <div class=\"colab-df-container\">\n",
              "    <button class=\"colab-df-convert\" onclick=\"convertToInteractive('df-385a511a-115c-4392-b891-cd7cbd33cb71')\"\n",
              "            title=\"Convert this dataframe to an interactive table.\"\n",
              "            style=\"display:none;\">\n",
              "\n",
              "  <svg xmlns=\"http://www.w3.org/2000/svg\" height=\"24px\" viewBox=\"0 -960 960 960\">\n",
              "    <path d=\"M120-120v-720h720v720H120Zm60-500h600v-160H180v160Zm220 220h160v-160H400v160Zm0 220h160v-160H400v160ZM180-400h160v-160H180v160Zm440 0h160v-160H620v160ZM180-180h160v-160H180v160Zm440 0h160v-160H620v160Z\"/>\n",
              "  </svg>\n",
              "    </button>\n",
              "\n",
              "  <style>\n",
              "    .colab-df-container {\n",
              "      display:flex;\n",
              "      gap: 12px;\n",
              "    }\n",
              "\n",
              "    .colab-df-convert {\n",
              "      background-color: #E8F0FE;\n",
              "      border: none;\n",
              "      border-radius: 50%;\n",
              "      cursor: pointer;\n",
              "      display: none;\n",
              "      fill: #1967D2;\n",
              "      height: 32px;\n",
              "      padding: 0 0 0 0;\n",
              "      width: 32px;\n",
              "    }\n",
              "\n",
              "    .colab-df-convert:hover {\n",
              "      background-color: #E2EBFA;\n",
              "      box-shadow: 0px 1px 2px rgba(60, 64, 67, 0.3), 0px 1px 3px 1px rgba(60, 64, 67, 0.15);\n",
              "      fill: #174EA6;\n",
              "    }\n",
              "\n",
              "    .colab-df-buttons div {\n",
              "      margin-bottom: 4px;\n",
              "    }\n",
              "\n",
              "    [theme=dark] .colab-df-convert {\n",
              "      background-color: #3B4455;\n",
              "      fill: #D2E3FC;\n",
              "    }\n",
              "\n",
              "    [theme=dark] .colab-df-convert:hover {\n",
              "      background-color: #434B5C;\n",
              "      box-shadow: 0px 1px 3px 1px rgba(0, 0, 0, 0.15);\n",
              "      filter: drop-shadow(0px 1px 2px rgba(0, 0, 0, 0.3));\n",
              "      fill: #FFFFFF;\n",
              "    }\n",
              "  </style>\n",
              "\n",
              "    <script>\n",
              "      const buttonEl =\n",
              "        document.querySelector('#df-385a511a-115c-4392-b891-cd7cbd33cb71 button.colab-df-convert');\n",
              "      buttonEl.style.display =\n",
              "        google.colab.kernel.accessAllowed ? 'block' : 'none';\n",
              "\n",
              "      async function convertToInteractive(key) {\n",
              "        const element = document.querySelector('#df-385a511a-115c-4392-b891-cd7cbd33cb71');\n",
              "        const dataTable =\n",
              "          await google.colab.kernel.invokeFunction('convertToInteractive',\n",
              "                                                    [key], {});\n",
              "        if (!dataTable) return;\n",
              "\n",
              "        const docLinkHtml = 'Like what you see? Visit the ' +\n",
              "          '<a target=\"_blank\" href=https://colab.research.google.com/notebooks/data_table.ipynb>data table notebook</a>'\n",
              "          + ' to learn more about interactive tables.';\n",
              "        element.innerHTML = '';\n",
              "        dataTable['output_type'] = 'display_data';\n",
              "        await google.colab.output.renderOutput(dataTable, element);\n",
              "        const docLink = document.createElement('div');\n",
              "        docLink.innerHTML = docLinkHtml;\n",
              "        element.appendChild(docLink);\n",
              "      }\n",
              "    </script>\n",
              "  </div>\n",
              "\n",
              "\n",
              "    <div id=\"df-699897da-9967-4ced-9cb5-68d6b89121e9\">\n",
              "      <button class=\"colab-df-quickchart\" onclick=\"quickchart('df-699897da-9967-4ced-9cb5-68d6b89121e9')\"\n",
              "                title=\"Suggest charts\"\n",
              "                style=\"display:none;\">\n",
              "\n",
              "<svg xmlns=\"http://www.w3.org/2000/svg\" height=\"24px\"viewBox=\"0 0 24 24\"\n",
              "     width=\"24px\">\n",
              "    <g>\n",
              "        <path d=\"M19 3H5c-1.1 0-2 .9-2 2v14c0 1.1.9 2 2 2h14c1.1 0 2-.9 2-2V5c0-1.1-.9-2-2-2zM9 17H7v-7h2v7zm4 0h-2V7h2v10zm4 0h-2v-4h2v4z\"/>\n",
              "    </g>\n",
              "</svg>\n",
              "      </button>\n",
              "\n",
              "<style>\n",
              "  .colab-df-quickchart {\n",
              "      --bg-color: #E8F0FE;\n",
              "      --fill-color: #1967D2;\n",
              "      --hover-bg-color: #E2EBFA;\n",
              "      --hover-fill-color: #174EA6;\n",
              "      --disabled-fill-color: #AAA;\n",
              "      --disabled-bg-color: #DDD;\n",
              "  }\n",
              "\n",
              "  [theme=dark] .colab-df-quickchart {\n",
              "      --bg-color: #3B4455;\n",
              "      --fill-color: #D2E3FC;\n",
              "      --hover-bg-color: #434B5C;\n",
              "      --hover-fill-color: #FFFFFF;\n",
              "      --disabled-bg-color: #3B4455;\n",
              "      --disabled-fill-color: #666;\n",
              "  }\n",
              "\n",
              "  .colab-df-quickchart {\n",
              "    background-color: var(--bg-color);\n",
              "    border: none;\n",
              "    border-radius: 50%;\n",
              "    cursor: pointer;\n",
              "    display: none;\n",
              "    fill: var(--fill-color);\n",
              "    height: 32px;\n",
              "    padding: 0;\n",
              "    width: 32px;\n",
              "  }\n",
              "\n",
              "  .colab-df-quickchart:hover {\n",
              "    background-color: var(--hover-bg-color);\n",
              "    box-shadow: 0 1px 2px rgba(60, 64, 67, 0.3), 0 1px 3px 1px rgba(60, 64, 67, 0.15);\n",
              "    fill: var(--button-hover-fill-color);\n",
              "  }\n",
              "\n",
              "  .colab-df-quickchart-complete:disabled,\n",
              "  .colab-df-quickchart-complete:disabled:hover {\n",
              "    background-color: var(--disabled-bg-color);\n",
              "    fill: var(--disabled-fill-color);\n",
              "    box-shadow: none;\n",
              "  }\n",
              "\n",
              "  .colab-df-spinner {\n",
              "    border: 2px solid var(--fill-color);\n",
              "    border-color: transparent;\n",
              "    border-bottom-color: var(--fill-color);\n",
              "    animation:\n",
              "      spin 1s steps(1) infinite;\n",
              "  }\n",
              "\n",
              "  @keyframes spin {\n",
              "    0% {\n",
              "      border-color: transparent;\n",
              "      border-bottom-color: var(--fill-color);\n",
              "      border-left-color: var(--fill-color);\n",
              "    }\n",
              "    20% {\n",
              "      border-color: transparent;\n",
              "      border-left-color: var(--fill-color);\n",
              "      border-top-color: var(--fill-color);\n",
              "    }\n",
              "    30% {\n",
              "      border-color: transparent;\n",
              "      border-left-color: var(--fill-color);\n",
              "      border-top-color: var(--fill-color);\n",
              "      border-right-color: var(--fill-color);\n",
              "    }\n",
              "    40% {\n",
              "      border-color: transparent;\n",
              "      border-right-color: var(--fill-color);\n",
              "      border-top-color: var(--fill-color);\n",
              "    }\n",
              "    60% {\n",
              "      border-color: transparent;\n",
              "      border-right-color: var(--fill-color);\n",
              "    }\n",
              "    80% {\n",
              "      border-color: transparent;\n",
              "      border-right-color: var(--fill-color);\n",
              "      border-bottom-color: var(--fill-color);\n",
              "    }\n",
              "    90% {\n",
              "      border-color: transparent;\n",
              "      border-bottom-color: var(--fill-color);\n",
              "    }\n",
              "  }\n",
              "</style>\n",
              "\n",
              "      <script>\n",
              "        async function quickchart(key) {\n",
              "          const quickchartButtonEl =\n",
              "            document.querySelector('#' + key + ' button');\n",
              "          quickchartButtonEl.disabled = true;  // To prevent multiple clicks.\n",
              "          quickchartButtonEl.classList.add('colab-df-spinner');\n",
              "          try {\n",
              "            const charts = await google.colab.kernel.invokeFunction(\n",
              "                'suggestCharts', [key], {});\n",
              "          } catch (error) {\n",
              "            console.error('Error during call to suggestCharts:', error);\n",
              "          }\n",
              "          quickchartButtonEl.classList.remove('colab-df-spinner');\n",
              "          quickchartButtonEl.classList.add('colab-df-quickchart-complete');\n",
              "        }\n",
              "        (() => {\n",
              "          let quickchartButtonEl =\n",
              "            document.querySelector('#df-699897da-9967-4ced-9cb5-68d6b89121e9 button');\n",
              "          quickchartButtonEl.style.display =\n",
              "            google.colab.kernel.accessAllowed ? 'block' : 'none';\n",
              "        })();\n",
              "      </script>\n",
              "    </div>\n",
              "\n",
              "    </div>\n",
              "  </div>\n"
            ],
            "application/vnd.google.colaboratory.intrinsic+json": {
              "type": "dataframe"
            }
          },
          "metadata": {},
          "execution_count": 106
        }
      ]
    },
    {
      "cell_type": "code",
      "source": [
        "# Remove exact duplicates\n",
        "bookings_cleaned = bookings.drop_duplicates()\n",
        "\n",
        "# Check shape before & after\n",
        "print(f\"Original shape: {bookings.shape}\")\n",
        "print(f\"After duplicate removal: {bookings_cleaned.shape}\")"
      ],
      "metadata": {
        "colab": {
          "base_uri": "https://localhost:8080/"
        },
        "id": "btMCM2lr1r7p",
        "outputId": "9d916d1f-3e9a-4150-f431-9e8a30740aef"
      },
      "execution_count": 107,
      "outputs": [
        {
          "output_type": "stream",
          "name": "stdout",
          "text": [
            "Original shape: (119390, 33)\n",
            "After duplicate removal: (87396, 33)\n"
          ]
        }
      ]
    },
    {
      "cell_type": "code",
      "source": [
        "# Check if some bookings only differ by Booking ID but match everything else\n",
        "key_columns = ['hotel', 'arrival_date_year', 'arrival_date_month', 'arrival_date_day_of_month',\n",
        "               'adults', 'children', 'babies', 'meal', 'country', 'market_segment',\n",
        "               'distribution_channel', 'is_repeated_guest', 'reserved_room_type',\n",
        "               'assigned_room_type', 'booking_changes', 'deposit_type', 'days_in_waiting_list',\n",
        "               'customer_type', 'adr', 'reservation_status_date']\n",
        "\n",
        "# Group by and count duplicates on key attributes\n",
        "near_duplicates = bookings_cleaned.duplicated(subset=key_columns)\n",
        "print(f\"Possible near-duplicates (excluding IDs): {near_duplicates.sum()}\")\n",
        "\n",
        "bookings_cleaned[near_duplicates].head()"
      ],
      "metadata": {
        "colab": {
          "base_uri": "https://localhost:8080/",
          "height": 360
        },
        "id": "jUJR7zXT2Vbh",
        "outputId": "dfdcb918-dbd3-41dc-a271-99dbb8f6c362"
      },
      "execution_count": 108,
      "outputs": [
        {
          "output_type": "stream",
          "name": "stdout",
          "text": [
            "Possible near-duplicates (excluding IDs): 2185\n"
          ]
        },
        {
          "output_type": "execute_result",
          "data": {
            "text/plain": [
              "            hotel  is_canceled  lead_time  arrival_date_year  \\\n",
              "130  Resort Hotel            0        100               2015   \n",
              "321  Resort Hotel            0         48               2015   \n",
              "361  Resort Hotel            0         54               2015   \n",
              "481  Resort Hotel            0         53               2015   \n",
              "669  Resort Hotel            0         39               2015   \n",
              "\n",
              "    arrival_date_month  arrival_date_week_number  arrival_date_day_of_month  \\\n",
              "130               July                        27                          4   \n",
              "321               July                        29                         12   \n",
              "361               July                        29                         13   \n",
              "481               July                        29                         17   \n",
              "669               July                        30                         25   \n",
              "\n",
              "     stays_in_weekend_nights  stays_in_week_nights  adults  ...  agent  \\\n",
              "130                        1                     1       2  ...    240   \n",
              "321                        2                     5       2  ...    243   \n",
              "361                        1                     2       2  ...    240   \n",
              "481                        2                     3       2  ...    152   \n",
              "669                        0                     1       2  ...    134   \n",
              "\n",
              "     company days_in_waiting_list    customer_type    adr  \\\n",
              "130        0                    0  Transient-Party   73.8   \n",
              "321        0                    0        Transient  123.0   \n",
              "361        0                    0        Transient   88.2   \n",
              "481        0                    0  Transient-Party  107.0   \n",
              "669        0                    0        Transient  107.0   \n",
              "\n",
              "    required_car_parking_spaces  total_of_special_requests  \\\n",
              "130                           0                          1   \n",
              "321                           0                          1   \n",
              "361                           0                          1   \n",
              "481                           1                          0   \n",
              "669                           0                          0   \n",
              "\n",
              "     reservation_status  reservation_status_date total_guests  \n",
              "130           Check-Out               2015-07-06          2.0  \n",
              "321           Check-Out               2015-07-19          2.0  \n",
              "361           Check-Out               2015-07-16          2.0  \n",
              "481           Check-Out               2015-07-22          2.0  \n",
              "669           Check-Out               2015-07-26          2.0  \n",
              "\n",
              "[5 rows x 33 columns]"
            ],
            "text/html": [
              "\n",
              "  <div id=\"df-f6bcf223-ec21-4571-845a-dae4e2f5028b\" class=\"colab-df-container\">\n",
              "    <div>\n",
              "<style scoped>\n",
              "    .dataframe tbody tr th:only-of-type {\n",
              "        vertical-align: middle;\n",
              "    }\n",
              "\n",
              "    .dataframe tbody tr th {\n",
              "        vertical-align: top;\n",
              "    }\n",
              "\n",
              "    .dataframe thead th {\n",
              "        text-align: right;\n",
              "    }\n",
              "</style>\n",
              "<table border=\"1\" class=\"dataframe\">\n",
              "  <thead>\n",
              "    <tr style=\"text-align: right;\">\n",
              "      <th></th>\n",
              "      <th>hotel</th>\n",
              "      <th>is_canceled</th>\n",
              "      <th>lead_time</th>\n",
              "      <th>arrival_date_year</th>\n",
              "      <th>arrival_date_month</th>\n",
              "      <th>arrival_date_week_number</th>\n",
              "      <th>arrival_date_day_of_month</th>\n",
              "      <th>stays_in_weekend_nights</th>\n",
              "      <th>stays_in_week_nights</th>\n",
              "      <th>adults</th>\n",
              "      <th>...</th>\n",
              "      <th>agent</th>\n",
              "      <th>company</th>\n",
              "      <th>days_in_waiting_list</th>\n",
              "      <th>customer_type</th>\n",
              "      <th>adr</th>\n",
              "      <th>required_car_parking_spaces</th>\n",
              "      <th>total_of_special_requests</th>\n",
              "      <th>reservation_status</th>\n",
              "      <th>reservation_status_date</th>\n",
              "      <th>total_guests</th>\n",
              "    </tr>\n",
              "  </thead>\n",
              "  <tbody>\n",
              "    <tr>\n",
              "      <th>130</th>\n",
              "      <td>Resort Hotel</td>\n",
              "      <td>0</td>\n",
              "      <td>100</td>\n",
              "      <td>2015</td>\n",
              "      <td>July</td>\n",
              "      <td>27</td>\n",
              "      <td>4</td>\n",
              "      <td>1</td>\n",
              "      <td>1</td>\n",
              "      <td>2</td>\n",
              "      <td>...</td>\n",
              "      <td>240</td>\n",
              "      <td>0</td>\n",
              "      <td>0</td>\n",
              "      <td>Transient-Party</td>\n",
              "      <td>73.8</td>\n",
              "      <td>0</td>\n",
              "      <td>1</td>\n",
              "      <td>Check-Out</td>\n",
              "      <td>2015-07-06</td>\n",
              "      <td>2.0</td>\n",
              "    </tr>\n",
              "    <tr>\n",
              "      <th>321</th>\n",
              "      <td>Resort Hotel</td>\n",
              "      <td>0</td>\n",
              "      <td>48</td>\n",
              "      <td>2015</td>\n",
              "      <td>July</td>\n",
              "      <td>29</td>\n",
              "      <td>12</td>\n",
              "      <td>2</td>\n",
              "      <td>5</td>\n",
              "      <td>2</td>\n",
              "      <td>...</td>\n",
              "      <td>243</td>\n",
              "      <td>0</td>\n",
              "      <td>0</td>\n",
              "      <td>Transient</td>\n",
              "      <td>123.0</td>\n",
              "      <td>0</td>\n",
              "      <td>1</td>\n",
              "      <td>Check-Out</td>\n",
              "      <td>2015-07-19</td>\n",
              "      <td>2.0</td>\n",
              "    </tr>\n",
              "    <tr>\n",
              "      <th>361</th>\n",
              "      <td>Resort Hotel</td>\n",
              "      <td>0</td>\n",
              "      <td>54</td>\n",
              "      <td>2015</td>\n",
              "      <td>July</td>\n",
              "      <td>29</td>\n",
              "      <td>13</td>\n",
              "      <td>1</td>\n",
              "      <td>2</td>\n",
              "      <td>2</td>\n",
              "      <td>...</td>\n",
              "      <td>240</td>\n",
              "      <td>0</td>\n",
              "      <td>0</td>\n",
              "      <td>Transient</td>\n",
              "      <td>88.2</td>\n",
              "      <td>0</td>\n",
              "      <td>1</td>\n",
              "      <td>Check-Out</td>\n",
              "      <td>2015-07-16</td>\n",
              "      <td>2.0</td>\n",
              "    </tr>\n",
              "    <tr>\n",
              "      <th>481</th>\n",
              "      <td>Resort Hotel</td>\n",
              "      <td>0</td>\n",
              "      <td>53</td>\n",
              "      <td>2015</td>\n",
              "      <td>July</td>\n",
              "      <td>29</td>\n",
              "      <td>17</td>\n",
              "      <td>2</td>\n",
              "      <td>3</td>\n",
              "      <td>2</td>\n",
              "      <td>...</td>\n",
              "      <td>152</td>\n",
              "      <td>0</td>\n",
              "      <td>0</td>\n",
              "      <td>Transient-Party</td>\n",
              "      <td>107.0</td>\n",
              "      <td>1</td>\n",
              "      <td>0</td>\n",
              "      <td>Check-Out</td>\n",
              "      <td>2015-07-22</td>\n",
              "      <td>2.0</td>\n",
              "    </tr>\n",
              "    <tr>\n",
              "      <th>669</th>\n",
              "      <td>Resort Hotel</td>\n",
              "      <td>0</td>\n",
              "      <td>39</td>\n",
              "      <td>2015</td>\n",
              "      <td>July</td>\n",
              "      <td>30</td>\n",
              "      <td>25</td>\n",
              "      <td>0</td>\n",
              "      <td>1</td>\n",
              "      <td>2</td>\n",
              "      <td>...</td>\n",
              "      <td>134</td>\n",
              "      <td>0</td>\n",
              "      <td>0</td>\n",
              "      <td>Transient</td>\n",
              "      <td>107.0</td>\n",
              "      <td>0</td>\n",
              "      <td>0</td>\n",
              "      <td>Check-Out</td>\n",
              "      <td>2015-07-26</td>\n",
              "      <td>2.0</td>\n",
              "    </tr>\n",
              "  </tbody>\n",
              "</table>\n",
              "<p>5 rows × 33 columns</p>\n",
              "</div>\n",
              "    <div class=\"colab-df-buttons\">\n",
              "\n",
              "  <div class=\"colab-df-container\">\n",
              "    <button class=\"colab-df-convert\" onclick=\"convertToInteractive('df-f6bcf223-ec21-4571-845a-dae4e2f5028b')\"\n",
              "            title=\"Convert this dataframe to an interactive table.\"\n",
              "            style=\"display:none;\">\n",
              "\n",
              "  <svg xmlns=\"http://www.w3.org/2000/svg\" height=\"24px\" viewBox=\"0 -960 960 960\">\n",
              "    <path d=\"M120-120v-720h720v720H120Zm60-500h600v-160H180v160Zm220 220h160v-160H400v160Zm0 220h160v-160H400v160ZM180-400h160v-160H180v160Zm440 0h160v-160H620v160ZM180-180h160v-160H180v160Zm440 0h160v-160H620v160Z\"/>\n",
              "  </svg>\n",
              "    </button>\n",
              "\n",
              "  <style>\n",
              "    .colab-df-container {\n",
              "      display:flex;\n",
              "      gap: 12px;\n",
              "    }\n",
              "\n",
              "    .colab-df-convert {\n",
              "      background-color: #E8F0FE;\n",
              "      border: none;\n",
              "      border-radius: 50%;\n",
              "      cursor: pointer;\n",
              "      display: none;\n",
              "      fill: #1967D2;\n",
              "      height: 32px;\n",
              "      padding: 0 0 0 0;\n",
              "      width: 32px;\n",
              "    }\n",
              "\n",
              "    .colab-df-convert:hover {\n",
              "      background-color: #E2EBFA;\n",
              "      box-shadow: 0px 1px 2px rgba(60, 64, 67, 0.3), 0px 1px 3px 1px rgba(60, 64, 67, 0.15);\n",
              "      fill: #174EA6;\n",
              "    }\n",
              "\n",
              "    .colab-df-buttons div {\n",
              "      margin-bottom: 4px;\n",
              "    }\n",
              "\n",
              "    [theme=dark] .colab-df-convert {\n",
              "      background-color: #3B4455;\n",
              "      fill: #D2E3FC;\n",
              "    }\n",
              "\n",
              "    [theme=dark] .colab-df-convert:hover {\n",
              "      background-color: #434B5C;\n",
              "      box-shadow: 0px 1px 3px 1px rgba(0, 0, 0, 0.15);\n",
              "      filter: drop-shadow(0px 1px 2px rgba(0, 0, 0, 0.3));\n",
              "      fill: #FFFFFF;\n",
              "    }\n",
              "  </style>\n",
              "\n",
              "    <script>\n",
              "      const buttonEl =\n",
              "        document.querySelector('#df-f6bcf223-ec21-4571-845a-dae4e2f5028b button.colab-df-convert');\n",
              "      buttonEl.style.display =\n",
              "        google.colab.kernel.accessAllowed ? 'block' : 'none';\n",
              "\n",
              "      async function convertToInteractive(key) {\n",
              "        const element = document.querySelector('#df-f6bcf223-ec21-4571-845a-dae4e2f5028b');\n",
              "        const dataTable =\n",
              "          await google.colab.kernel.invokeFunction('convertToInteractive',\n",
              "                                                    [key], {});\n",
              "        if (!dataTable) return;\n",
              "\n",
              "        const docLinkHtml = 'Like what you see? Visit the ' +\n",
              "          '<a target=\"_blank\" href=https://colab.research.google.com/notebooks/data_table.ipynb>data table notebook</a>'\n",
              "          + ' to learn more about interactive tables.';\n",
              "        element.innerHTML = '';\n",
              "        dataTable['output_type'] = 'display_data';\n",
              "        await google.colab.output.renderOutput(dataTable, element);\n",
              "        const docLink = document.createElement('div');\n",
              "        docLink.innerHTML = docLinkHtml;\n",
              "        element.appendChild(docLink);\n",
              "      }\n",
              "    </script>\n",
              "  </div>\n",
              "\n",
              "\n",
              "    <div id=\"df-5372bf5a-ba12-40ab-95a0-e60224bca4cd\">\n",
              "      <button class=\"colab-df-quickchart\" onclick=\"quickchart('df-5372bf5a-ba12-40ab-95a0-e60224bca4cd')\"\n",
              "                title=\"Suggest charts\"\n",
              "                style=\"display:none;\">\n",
              "\n",
              "<svg xmlns=\"http://www.w3.org/2000/svg\" height=\"24px\"viewBox=\"0 0 24 24\"\n",
              "     width=\"24px\">\n",
              "    <g>\n",
              "        <path d=\"M19 3H5c-1.1 0-2 .9-2 2v14c0 1.1.9 2 2 2h14c1.1 0 2-.9 2-2V5c0-1.1-.9-2-2-2zM9 17H7v-7h2v7zm4 0h-2V7h2v10zm4 0h-2v-4h2v4z\"/>\n",
              "    </g>\n",
              "</svg>\n",
              "      </button>\n",
              "\n",
              "<style>\n",
              "  .colab-df-quickchart {\n",
              "      --bg-color: #E8F0FE;\n",
              "      --fill-color: #1967D2;\n",
              "      --hover-bg-color: #E2EBFA;\n",
              "      --hover-fill-color: #174EA6;\n",
              "      --disabled-fill-color: #AAA;\n",
              "      --disabled-bg-color: #DDD;\n",
              "  }\n",
              "\n",
              "  [theme=dark] .colab-df-quickchart {\n",
              "      --bg-color: #3B4455;\n",
              "      --fill-color: #D2E3FC;\n",
              "      --hover-bg-color: #434B5C;\n",
              "      --hover-fill-color: #FFFFFF;\n",
              "      --disabled-bg-color: #3B4455;\n",
              "      --disabled-fill-color: #666;\n",
              "  }\n",
              "\n",
              "  .colab-df-quickchart {\n",
              "    background-color: var(--bg-color);\n",
              "    border: none;\n",
              "    border-radius: 50%;\n",
              "    cursor: pointer;\n",
              "    display: none;\n",
              "    fill: var(--fill-color);\n",
              "    height: 32px;\n",
              "    padding: 0;\n",
              "    width: 32px;\n",
              "  }\n",
              "\n",
              "  .colab-df-quickchart:hover {\n",
              "    background-color: var(--hover-bg-color);\n",
              "    box-shadow: 0 1px 2px rgba(60, 64, 67, 0.3), 0 1px 3px 1px rgba(60, 64, 67, 0.15);\n",
              "    fill: var(--button-hover-fill-color);\n",
              "  }\n",
              "\n",
              "  .colab-df-quickchart-complete:disabled,\n",
              "  .colab-df-quickchart-complete:disabled:hover {\n",
              "    background-color: var(--disabled-bg-color);\n",
              "    fill: var(--disabled-fill-color);\n",
              "    box-shadow: none;\n",
              "  }\n",
              "\n",
              "  .colab-df-spinner {\n",
              "    border: 2px solid var(--fill-color);\n",
              "    border-color: transparent;\n",
              "    border-bottom-color: var(--fill-color);\n",
              "    animation:\n",
              "      spin 1s steps(1) infinite;\n",
              "  }\n",
              "\n",
              "  @keyframes spin {\n",
              "    0% {\n",
              "      border-color: transparent;\n",
              "      border-bottom-color: var(--fill-color);\n",
              "      border-left-color: var(--fill-color);\n",
              "    }\n",
              "    20% {\n",
              "      border-color: transparent;\n",
              "      border-left-color: var(--fill-color);\n",
              "      border-top-color: var(--fill-color);\n",
              "    }\n",
              "    30% {\n",
              "      border-color: transparent;\n",
              "      border-left-color: var(--fill-color);\n",
              "      border-top-color: var(--fill-color);\n",
              "      border-right-color: var(--fill-color);\n",
              "    }\n",
              "    40% {\n",
              "      border-color: transparent;\n",
              "      border-right-color: var(--fill-color);\n",
              "      border-top-color: var(--fill-color);\n",
              "    }\n",
              "    60% {\n",
              "      border-color: transparent;\n",
              "      border-right-color: var(--fill-color);\n",
              "    }\n",
              "    80% {\n",
              "      border-color: transparent;\n",
              "      border-right-color: var(--fill-color);\n",
              "      border-bottom-color: var(--fill-color);\n",
              "    }\n",
              "    90% {\n",
              "      border-color: transparent;\n",
              "      border-bottom-color: var(--fill-color);\n",
              "    }\n",
              "  }\n",
              "</style>\n",
              "\n",
              "      <script>\n",
              "        async function quickchart(key) {\n",
              "          const quickchartButtonEl =\n",
              "            document.querySelector('#' + key + ' button');\n",
              "          quickchartButtonEl.disabled = true;  // To prevent multiple clicks.\n",
              "          quickchartButtonEl.classList.add('colab-df-spinner');\n",
              "          try {\n",
              "            const charts = await google.colab.kernel.invokeFunction(\n",
              "                'suggestCharts', [key], {});\n",
              "          } catch (error) {\n",
              "            console.error('Error during call to suggestCharts:', error);\n",
              "          }\n",
              "          quickchartButtonEl.classList.remove('colab-df-spinner');\n",
              "          quickchartButtonEl.classList.add('colab-df-quickchart-complete');\n",
              "        }\n",
              "        (() => {\n",
              "          let quickchartButtonEl =\n",
              "            document.querySelector('#df-5372bf5a-ba12-40ab-95a0-e60224bca4cd button');\n",
              "          quickchartButtonEl.style.display =\n",
              "            google.colab.kernel.accessAllowed ? 'block' : 'none';\n",
              "        })();\n",
              "      </script>\n",
              "    </div>\n",
              "\n",
              "    </div>\n",
              "  </div>\n"
            ],
            "application/vnd.google.colaboratory.intrinsic+json": {
              "type": "dataframe"
            }
          },
          "metadata": {},
          "execution_count": 108
        }
      ]
    },
    {
      "cell_type": "code",
      "source": [
        "# Summary\n",
        "num_exact_duplicates = bookings.duplicated().sum()\n",
        "print(f\"Exact duplicates removed: {num_exact_duplicates}\")\n",
        "print(f\"Final dataset shape: {bookings_cleaned.shape}\")\n",
        "print(\"\"\"⦾ We found XX exact duplicates which were removed.\n",
        "⦾ Near duplicates were reviewed, but retained due to potential differences in agent handling or repeated guests.\"\"\")"
      ],
      "metadata": {
        "colab": {
          "base_uri": "https://localhost:8080/"
        },
        "id": "rzrsikzT3OPX",
        "outputId": "e3616d62-c968-4497-ed0d-86c71d7d052d"
      },
      "execution_count": 109,
      "outputs": [
        {
          "output_type": "stream",
          "name": "stdout",
          "text": [
            "Exact duplicates removed: 31994\n",
            "Final dataset shape: (87396, 33)\n",
            "⦾ We found XX exact duplicates which were removed. \n",
            "⦾ Near duplicates were reviewed, but retained due to potential differences in agent handling or repeated guests.\n"
          ]
        }
      ]
    },
    {
      "cell_type": "markdown",
      "source": [
        "## Task 2.3: Outlier Detection and Treatment"
      ],
      "metadata": {
        "id": "Zs0oOlwX46lG"
      }
    },
    {
      "cell_type": "code",
      "source": [
        "# Function to detect outliers using IQR\n",
        "def detect_outliers_iqr(data, column):\n",
        "    Q1 = data[column].quantile(0.25)\n",
        "    Q3 = data[column].quantile(0.75)\n",
        "    IQR = Q3 - Q1\n",
        "    lower_bound = Q1 - 1.5 * IQR\n",
        "    upper_bound = Q3 + 1.5 * IQR\n",
        "    outliers = data[(data[column] < lower_bound) | (data[column] > upper_bound)]\n",
        "    return outliers"
      ],
      "metadata": {
        "id": "JHT6m5CN4xQ_"
      },
      "execution_count": 110,
      "outputs": []
    },
    {
      "cell_type": "code",
      "source": [
        "columns_to_check = ['lead_time', 'stays_in_weekend_nights', 'stays_in_week_nights',\n",
        "                    'adults', 'children', 'babies', 'adr']\n",
        "\n",
        "for col in columns_to_check:\n",
        "    outliers = detect_outliers_iqr(bookings_cleaned, col)\n",
        "    print(f\"{col}: {len(outliers)} outliers\")"
      ],
      "metadata": {
        "colab": {
          "base_uri": "https://localhost:8080/"
        },
        "id": "DNl3Cb5A5n0Q",
        "outputId": "e4b3ac99-fc75-4307-9e25-daf98a513929"
      },
      "execution_count": 111,
      "outputs": [
        {
          "output_type": "stream",
          "name": "stdout",
          "text": [
            "lead_time: 2396 outliers\n",
            "stays_in_weekend_nights: 220 outliers\n",
            "stays_in_week_nights: 1531 outliers\n",
            "adults: 22899 outliers\n",
            "children: 8364 outliers\n",
            "babies: 914 outliers\n",
            "adr: 2490 outliers\n"
          ]
        }
      ]
    },
    {
      "cell_type": "code",
      "source": [
        "# Z-Score Outlier Detection\n",
        "from scipy.stats import zscore\n",
        "\n",
        "# Compute z-scores\n",
        "z_scores = bookings_cleaned[columns_to_check].apply(zscore)\n",
        "\n",
        "# Flag values where z > 3 or < -3\n",
        "outliers_z = (z_scores.abs() > 3).sum()\n",
        "print(\"Z-score Outliers per Column:\\n\", outliers_z)"
      ],
      "metadata": {
        "colab": {
          "base_uri": "https://localhost:8080/"
        },
        "id": "lBGkxys55sRJ",
        "outputId": "27dbb26f-2338-440c-fd44-355924d7acd0"
      },
      "execution_count": 112,
      "outputs": [
        {
          "output_type": "stream",
          "name": "stdout",
          "text": [
            "Z-score Outliers per Column:\n",
            " lead_time                  1049\n",
            "stays_in_weekend_nights     290\n",
            "stays_in_week_nights       1531\n",
            "adults                       76\n",
            "children                   3669\n",
            "babies                      914\n",
            "adr                         628\n",
            "dtype: int64\n"
          ]
        }
      ]
    },
    {
      "cell_type": "code",
      "source": [
        "# Visualize with Boxplots\n",
        "# Set plot size\n",
        "plt.figure(figsize=(15, 10))\n",
        "\n",
        "# Create a boxplot for each column\n",
        "for i, col in enumerate(columns_to_check, 1):\n",
        "    plt.subplot(3, 3, i)\n",
        "    sns.boxplot(x=bookings_cleaned[col], color='skyblue')\n",
        "    plt.title(f'{col} Boxplot')\n",
        "\n",
        "plt.tight_layout()\n",
        "plt.show()"
      ],
      "metadata": {
        "colab": {
          "base_uri": "https://localhost:8080/",
          "height": 841
        },
        "id": "yPvTOW0e6-80",
        "outputId": "bd1594dd-2f48-438e-aa1b-f1d4e60ca53d"
      },
      "execution_count": 113,
      "outputs": [
        {
          "output_type": "display_data",
          "data": {
            "text/plain": [
              "<Figure size 1500x1000 with 7 Axes>"
            ],
            "image/png": "[encoded data removed]"
          },
          "metadata": {}
        }
      ]
    },
    {
      "cell_type": "markdown",
      "source": [
        "Decide the best outlier treatment strategy for each feature based on:\n",
        "\n",
        "*   The nature of the data\n",
        "*   Whether the outliers are likely to be valid extreme values or data entry errors\n",
        "*   Whether they can affect analysis or machine learning models\n",
        "\n",
        "**Outlier Treatment Strategy**\n",
        "\n",
        "| Column                    | Strategy    | Reason                                                                 |\n",
        "| ------------------------- | ----------- | ---------------------------------------------------------------------- |\n",
        "| `lead_time`               | **Capping** | Very long lead times are possible but rare. Cap at 99th percentile.    |\n",
        "| `stays_in_weekend_nights` | **Capping** | Unlikely people stay >10 nights on weekend. Cap to reduce skew.        |\n",
        "| `stays_in_week_nights`    | **Capping** | Long stays >15 nights are rare. Capping preferred over removal.        |\n",
        "| `adults`                  | **Removal** | Values like 0 or >10 may be invalid or rare. Safer to remove.          |\n",
        "| `children`                | **Removal** | Many children (>5) unlikely. Remove rows with high or negative counts. |\n",
        "| `babies`                  | **Removal** | Similar to children.                                                   |\n",
        "| `adr`                     | **Capping** | Very high rates (>5000 EUR) are likely outliers. Cap to reduce skew.   |\n",
        "\n",
        "\n",
        "\n",
        "\n",
        "\n"
      ],
      "metadata": {
        "id": "GAwn9cSo9SLX"
      }
    },
    {
      "cell_type": "code",
      "source": [
        "# Remove invalid rows in adults, children, babies\n",
        "\n",
        "# Remove rows where total number of people is 0\n",
        "bookings_cleaned = bookings_cleaned[~((bookings_cleaned['adults'] == 0) &\n",
        "                                      (bookings_cleaned['children'] == 0) &\n",
        "                                      (bookings_cleaned['babies'] == 0))]\n",
        "\n",
        "# Remove rows with too many people (possible data errors)\n",
        "bookings_cleaned = bookings_cleaned[bookings_cleaned['adults'] <= 10]\n",
        "bookings_cleaned = bookings_cleaned[bookings_cleaned['children'] <= 5]\n",
        "bookings_cleaned = bookings_cleaned[bookings_cleaned['babies'] <= 3]\n"
      ],
      "metadata": {
        "id": "lszi_yNG9Gvx"
      },
      "execution_count": 114,
      "outputs": []
    },
    {
      "cell_type": "code",
      "source": [
        "# Capping the other columns\n",
        "\n",
        "# Function to cap values at 1st and 99th percentiles\n",
        "def cap_outliers(df, column):\n",
        "    lower = df[column].quantile(0.01)\n",
        "    upper = df[column].quantile(0.99)\n",
        "    df[column] = np.where(df[column] < lower, lower, df[column])\n",
        "    df[column] = np.where(df[column] > upper, upper, df[column])\n",
        "    print(f\"Capped '{column}' at [{lower:.2f}, {upper:.2f}]\")\n",
        "    return df\n",
        "\n",
        "# Apply to selected columns\n",
        "columns_to_cap = ['lead_time', 'stays_in_weekend_nights', 'stays_in_week_nights', 'adr']\n",
        "for col in columns_to_cap:\n",
        "    bookings_cleaned = cap_outliers(bookings_cleaned, col)\n"
      ],
      "metadata": {
        "colab": {
          "base_uri": "https://localhost:8080/"
        },
        "id": "tU9t7CF2-aCS",
        "outputId": "5a5e506e-7122-46c4-ef39-e03f4f004f05"
      },
      "execution_count": 115,
      "outputs": [
        {
          "output_type": "stream",
          "name": "stdout",
          "text": [
            "Capped 'lead_time' at [0.00, 346.00]\n",
            "Capped 'stays_in_weekend_nights' at [0.00, 4.00]\n",
            "Capped 'stays_in_week_nights' at [0.00, 10.00]\n",
            "Capped 'adr' at [0.00, 261.65]\n"
          ]
        }
      ]
    },
    {
      "cell_type": "code",
      "source": [
        "# Check After Capping\n",
        "\n",
        "# Boxplots after treatment\n",
        "plt.figure(figsize=(15, 10))\n",
        "for i, col in enumerate(columns_to_cap, 1):\n",
        "    plt.subplot(2, 2, i)\n",
        "    sns.boxplot(x=bookings_cleaned[col], color='lightgreen')\n",
        "    plt.title(f'{col} After Outlier Capping')\n",
        "\n",
        "plt.tight_layout()\n",
        "plt.show()"
      ],
      "metadata": {
        "colab": {
          "base_uri": "https://localhost:8080/",
          "height": 842
        },
        "id": "c4KlWHWZ-i2J",
        "outputId": "f2d843e8-4db0-452f-e34f-6ef27f440b97"
      },
      "execution_count": 116,
      "outputs": [
        {
          "output_type": "display_data",
          "data": {
            "text/plain": [
              "<Figure size 1500x1000 with 4 Axes>"
            ],
            "image/png": "[encoded data removed]"
          },
          "metadata": {}
        }
      ]
    },
    {
      "cell_type": "code",
      "source": [
        "print(\"Outlier treatment summary:\")\n",
        "print(\"⦾ Removed rows with invalid guest counts\")\n",
        "print(\"⦾ Applied capping (1st-99th percentile) to: lead_time, stays, adr\")\n",
        "print(f\"⦾ Final dataset shape: {bookings_cleaned.shape}\")"
      ],
      "metadata": {
        "colab": {
          "base_uri": "https://localhost:8080/"
        },
        "id": "LtDW_oEH-lY-",
        "outputId": "46660312-a99e-4544-d93a-5fa652197d80"
      },
      "execution_count": 117,
      "outputs": [
        {
          "output_type": "stream",
          "name": "stdout",
          "text": [
            "Outlier treatment summary:\n",
            "⦾ Removed rows with invalid guest counts\n",
            "⦾ Applied capping (1st-99th percentile) to: lead_time, stays, adr\n",
            "⦾ Final dataset shape: (87215, 33)\n"
          ]
        }
      ]
    },
    {
      "cell_type": "markdown",
      "source": [
        "## Task 2.4: Data Inconsistency Fixes"
      ],
      "metadata": {
        "id": "UGaC5-aZ_P_e"
      }
    },
    {
      "cell_type": "code",
      "source": [
        "# Standardize Categorical Values\n",
        "\n",
        "# Strip whitespace and convert to uppercase/lowercase as needed\n",
        "bookings_cleaned['country'] = bookings_cleaned['country'].str.strip().str.upper()\n",
        "\n",
        "# View top countries\n",
        "print(bookings_cleaned['country'].value_counts().head(10))\n",
        "\n",
        "# Fix known inconsistent meal types\n",
        "bookings_cleaned['meal'] = bookings_cleaned['meal'].replace({'SC': 'Self-Catering',\n",
        "                                                             'BB': 'Bed & Breakfast',\n",
        "                                                             'HB': 'Half Board',\n",
        "                                                             'FB': 'Full Board',\n",
        "                                                             'Undefined': 'Unknown'})\n",
        "\n",
        "# Convert market_segment & distribution_channel to lowercase and strip\n",
        "bookings_cleaned['market_segment'] = bookings_cleaned['market_segment'].str.strip().str.lower()\n",
        "bookings_cleaned['distribution_channel'] = bookings_cleaned['distribution_channel'].str.strip().str.lower()\n"
      ],
      "metadata": {
        "colab": {
          "base_uri": "https://localhost:8080/"
        },
        "id": "J4p4MSAq_FUv",
        "outputId": "b396424e-b347-4728-c25e-55cd4ca86746"
      },
      "execution_count": 118,
      "outputs": [
        {
          "output_type": "stream",
          "name": "stdout",
          "text": [
            "country\n",
            "PRT    27341\n",
            "GBR    10423\n",
            "FRA     8823\n",
            "ESP     7244\n",
            "DEU     5385\n",
            "ITA     3061\n",
            "IRL     3015\n",
            "BEL     2081\n",
            "BRA     1993\n",
            "NLD     1910\n",
            "Name: count, dtype: int64\n"
          ]
        }
      ]
    },
    {
      "cell_type": "code",
      "source": [
        "# Fix Date Format Inconsistencies\n",
        "\n",
        "# Convert month name to number\n",
        "bookings_cleaned['arrival_date_month'] = bookings_cleaned['arrival_date_month'].str.title()\n",
        "month_map = {'January':1, 'February':2, 'March':3, 'April':4, 'May':5, 'June':6,\n",
        "             'July':7, 'August':8, 'September':9, 'October':10, 'November':11, 'December':12}\n",
        "\n",
        "bookings_cleaned['arrival_date'] = pd.to_datetime(\n",
        "    dict(year=bookings_cleaned['arrival_date_year'],\n",
        "         month=bookings_cleaned['arrival_date_month'].map(month_map),\n",
        "         day=bookings_cleaned['arrival_date_day_of_month'])\n",
        ")\n",
        "\n",
        "# Drop the original date columns\n",
        "bookings_cleaned.drop(['arrival_date_year', 'arrival_date_month', 'arrival_date_day_of_month'], axis=1, inplace=True)\n"
      ],
      "metadata": {
        "id": "HkzocMjADG0P"
      },
      "execution_count": 119,
      "outputs": []
    },
    {
      "cell_type": "code",
      "source": [
        "# Handle Impossible Guest Combinations\n",
        "\n",
        "# Add total_guests column\n",
        "bookings_cleaned['total_guests'] = bookings_cleaned['adults'] + bookings_cleaned['children'] + bookings_cleaned['babies']\n",
        "\n",
        "# Remove rows with 0 guests\n",
        "bookings_cleaned = bookings_cleaned[bookings_cleaned['total_guests'] > 0]\n"
      ],
      "metadata": {
        "id": "0iTrruNQDP_R"
      },
      "execution_count": 120,
      "outputs": []
    },
    {
      "cell_type": "code",
      "source": [
        "# Validate Logical Constraints\n",
        "\n",
        "# Check lead time ≥ 0\n",
        "invalid_lead = bookings_cleaned[bookings_cleaned['lead_time'] < 0]\n",
        "print(f\"Invalid lead_time values: {len(invalid_lead)}\")\n",
        "\n",
        "# Check adr (price) not negative\n",
        "invalid_adr = bookings_cleaned[bookings_cleaned['adr'] < 0]\n",
        "print(f\"Invalid adr values: {len(invalid_adr)}\")\n",
        "\n",
        "# Remove rows with invalid adr\n",
        "bookings_cleaned = bookings_cleaned[bookings_cleaned['adr'] >= 0]\n",
        "\n",
        "# Validate adults/children/babies are non-negative\n",
        "bookings_cleaned = bookings_cleaned[(bookings_cleaned['adults'] >= 0) &\n",
        "                                    (bookings_cleaned['children'] >= 0) &\n",
        "                                    (bookings_cleaned['babies'] >= 0)]\n"
      ],
      "metadata": {
        "colab": {
          "base_uri": "https://localhost:8080/"
        },
        "id": "zVWVUmfmDYH3",
        "outputId": "60a743a6-ea58-4886-c6d0-15a3925ac469"
      },
      "execution_count": 121,
      "outputs": [
        {
          "output_type": "stream",
          "name": "stdout",
          "text": [
            "Invalid lead_time values: 0\n",
            "Invalid adr values: 0\n"
          ]
        }
      ]
    },
    {
      "cell_type": "code",
      "source": [
        "print(\"Final shape after consistency fixes:\", bookings_cleaned.shape)\n",
        "print(\"Nulls remaining:\", bookings_cleaned.isnull().sum().sum())\n",
        "print(\"Unique values in 'meal':\", bookings_cleaned['meal'].unique())\n",
        "print(\"Date range:\", bookings_cleaned['arrival_date'].min(), \"to\", bookings_cleaned['arrival_date'].max())\n"
      ],
      "metadata": {
        "colab": {
          "base_uri": "https://localhost:8080/"
        },
        "id": "OV5hziPKD77Y",
        "outputId": "79092dcb-f0b5-46ad-d770-9cbd8980357a"
      },
      "execution_count": 122,
      "outputs": [
        {
          "output_type": "stream",
          "name": "stdout",
          "text": [
            "Final shape after consistency fixes: (87215, 31)\n",
            "Nulls remaining: 447\n",
            "Unique values in 'meal': ['Bed & Breakfast' 'Full Board' 'Half Board' 'Self-Catering' 'Unknown']\n",
            "Date range: 2015-07-01 00:00:00 to 2017-08-31 00:00:00\n"
          ]
        }
      ]
    },
    {
      "cell_type": "markdown",
      "source": [
        "# Phase 3: Data Validation and Documentation"
      ],
      "metadata": {
        "id": "4f65p5VLEJAH"
      }
    },
    {
      "cell_type": "markdown",
      "source": [
        "## Task 3.1: Data Integrity Checks"
      ],
      "metadata": {
        "id": "dqfOczcoEMf5"
      }
    },
    {
      "cell_type": "code",
      "source": [
        "# Verify that total guests (adults + children + babies) > 0\n",
        "\n",
        "# Recalculate total guests to double-check\n",
        "bookings_cleaned['total_guests'] = bookings_cleaned['adults'] + bookings_cleaned['children'] + bookings_cleaned['babies']\n",
        "\n",
        "# Check for invalid bookings\n",
        "invalid_guests = bookings_cleaned[bookings_cleaned['total_guests'] <= 0]\n",
        "print(f\"Rows with 0 guests: {len(invalid_guests)}\")\n",
        "\n",
        "# Remove if any slipped through\n",
        "bookings_cleaned = bookings_cleaned[bookings_cleaned['total_guests'] > 0]\n"
      ],
      "metadata": {
        "colab": {
          "base_uri": "https://localhost:8080/"
        },
        "id": "fjl-yzb-EKL-",
        "outputId": "83fae31a-eac4-4241-a99c-07ac9ca9fa78"
      },
      "execution_count": 123,
      "outputs": [
        {
          "output_type": "stream",
          "name": "stdout",
          "text": [
            "Rows with 0 guests: 0\n"
          ]
        }
      ]
    },
    {
      "cell_type": "code",
      "source": [
        "# Check that arrival dates are within the expected range\n",
        "\n",
        "# Check date range\n",
        "min_date = bookings_cleaned['arrival_date'].min()\n",
        "max_date = bookings_cleaned['arrival_date'].max()\n",
        "\n",
        "print(f\"Date range: {min_date.date()} to {max_date.date()}\")\n",
        "\n",
        "# Confirm within expected range\n",
        "expected_start = pd.to_datetime('2015-07-01')\n",
        "expected_end = pd.to_datetime('2017-08-31')\n",
        "\n",
        "if min_date < expected_start or max_date > expected_end:\n",
        "    print(\"Dates outside expected range!\")\n",
        "else:\n",
        "    print(\"Dates within expected range.\")"
      ],
      "metadata": {
        "colab": {
          "base_uri": "https://localhost:8080/"
        },
        "id": "jozTcM-GE4Po",
        "outputId": "adbb8cf4-98aa-4e05-cf0d-3c3f8d2b4d9c"
      },
      "execution_count": 126,
      "outputs": [
        {
          "output_type": "stream",
          "name": "stdout",
          "text": [
            "Date range: 2015-07-01 to 2017-08-31\n",
            "Dates within expected range.\n"
          ]
        }
      ]
    },
    {
      "cell_type": "code",
      "source": [
        "# Validate numerical values are within reasonable ranges\n",
        "\n",
        "# Define reasonable ranges for each numeric column\n",
        "valid_ranges = {\n",
        "    'lead_time': (0, 500),\n",
        "    'stays_in_weekend_nights': (0, 15),\n",
        "    'stays_in_week_nights': (0, 30),\n",
        "    'adults': (1, 10),\n",
        "    'children': (0, 5),\n",
        "    'babies': (0, 3),\n",
        "    'adr': (0, 5000),  # Average daily rate in EUR\n",
        "    'total_guests': (1, 20)\n",
        "}\n",
        "\n",
        "# Check for out-of-range values\n",
        "for col, (low, high) in valid_ranges.items():\n",
        "    invalid = bookings_cleaned[(bookings_cleaned[col] < low) | (bookings_cleaned[col] > high)]\n",
        "    print(f\"{col}: {len(invalid)} rows outside range [{low}, {high}]\")\n"
      ],
      "metadata": {
        "colab": {
          "base_uri": "https://localhost:8080/"
        },
        "id": "ydph5oTrFIxY",
        "outputId": "c42f89af-3b70-461b-8b86-bab98a88143f"
      },
      "execution_count": 127,
      "outputs": [
        {
          "output_type": "stream",
          "name": "stdout",
          "text": [
            "lead_time: 0 rows outside range [0, 500]\n",
            "stays_in_weekend_nights: 0 rows outside range [0, 15]\n",
            "stays_in_week_nights: 0 rows outside range [0, 30]\n",
            "adults: 219 rows outside range [1, 10]\n",
            "children: 0 rows outside range [0, 5]\n",
            "babies: 0 rows outside range [0, 3]\n",
            "adr: 0 rows outside range [0, 5000]\n",
            "total_guests: 0 rows outside range [1, 20]\n"
          ]
        }
      ]
    },
    {
      "cell_type": "code",
      "source": [
        "# Ensure categorical values are from expected sets\n",
        "\n",
        "# Expected sets\n",
        "expected_meals = ['Bed & Breakfast', 'Half Board', 'Full Board', 'Self-Catering', 'Unknown']\n",
        "expected_segments = ['online', 'offline', 'corporate', 'complementary', 'direct', 'groups', 'undefined', 'aviation']\n",
        "expected_channels = ['ta/to', 'direct', 'corporate', 'gds', 'undefined']\n",
        "\n",
        "# Validate\n",
        "print(\"Unexpected 'meal' values:\", bookings_cleaned[~bookings_cleaned['meal'].isin(expected_meals)]['meal'].unique())\n",
        "print(\"Unexpected 'market_segment' values:\", bookings_cleaned[~bookings_cleaned['market_segment'].isin(expected_segments)]['market_segment'].unique())\n",
        "print(\"Unexpected 'distribution_channel' values:\", bookings_cleaned[~bookings_cleaned['distribution_channel'].isin(expected_channels)]['distribution_channel'].unique())\n"
      ],
      "metadata": {
        "colab": {
          "base_uri": "https://localhost:8080/"
        },
        "id": "oaHOFVrhFVjC",
        "outputId": "3eb6fa8c-fcac-4794-f577-a15db64d90b9"
      },
      "execution_count": 128,
      "outputs": [
        {
          "output_type": "stream",
          "name": "stdout",
          "text": [
            "Unexpected 'meal' values: []\n",
            "Unexpected 'market_segment' values: ['online ta' 'offline ta/to']\n",
            "Unexpected 'distribution_channel' values: []\n"
          ]
        }
      ]
    },
    {
      "cell_type": "code",
      "source": [
        "# Replace undefined/unknown categories\n",
        "bookings_cleaned['meal'] = bookings_cleaned['meal'].replace({'Unknown': 'Self-Catering'})\n",
        "bookings_cleaned['market_segment'] = bookings_cleaned['market_segment'].replace('undefined', 'other')\n",
        "bookings_cleaned['distribution_channel'] = bookings_cleaned['distribution_channel'].replace('undefined', 'other')\n"
      ],
      "metadata": {
        "id": "5WcHYLLCFjlm"
      },
      "execution_count": 129,
      "outputs": []
    },
    {
      "cell_type": "markdown",
      "source": [
        "## Task 3.2: Create Data Cleaning Report"
      ],
      "metadata": {
        "id": "QwevcoQpFr0O"
      }
    },
    {
      "cell_type": "markdown",
      "source": [
        "Find /reports/ data_cleaning_report.md"
      ],
      "metadata": {
        "id": "zVZ8NY2AF9QC"
      }
    },
    {
      "cell_type": "markdown",
      "source": [
        "## Task 3.3: Final Dataset Preparation"
      ],
      "metadata": {
        "id": "iVig4KlGJ1Yk"
      }
    },
    {
      "cell_type": "code",
      "source": [
        "# Final cleaned dataset (already cleaned in previous tasks)\n",
        "final_df = bookings.copy()"
      ],
      "metadata": {
        "id": "6a95jtBXHgs3"
      },
      "execution_count": 133,
      "outputs": []
    },
    {
      "cell_type": "code",
      "source": [
        "# Export the cleaned dataset to CSV\n",
        "final_df.to_csv('hotel_bookings_cleaned.csv', index=False)\n",
        "print(\"Final cleaned dataset exported to: hotel_bookings_cleaned.csv\")\n"
      ],
      "metadata": {
        "colab": {
          "base_uri": "https://localhost:8080/"
        },
        "id": "m3lXrlVAKYef",
        "outputId": "5a7cecec-3b32-478a-e86d-874617216823"
      },
      "execution_count": 137,
      "outputs": [
        {
          "output_type": "stream",
          "name": "stdout",
          "text": [
            "Final cleaned dataset exported to: hotel_bookings_cleaned.csv\n"
          ]
        }
      ]
    },
    {
      "cell_type": "markdown",
      "source": [
        "# Data Dictionary: Cleaned Hotel Booking Dataset\n",
        "\n",
        "| Column Name                   | Data Type    | Description                                                                 |\n",
        "|------------------------------|--------------|-----------------------------------------------------------------------------|\n",
        "| hotel                        | object       | Hotel type (`City Hotel` or `Resort Hotel`)                                |\n",
        "| is_canceled                  | int64        | Whether the booking was canceled (1) or not (0)                             |\n",
        "| lead_time                    | int64        | Number of days between booking and arrival                                  |\n",
        "| arrival_date_year            | int64        | Year of arrival                                                             |\n",
        "| arrival_date_month           | object       | Month of arrival (string format)                                            |\n",
        "| arrival_date_week_number     | int64        | Week number of the arrival date                                             |\n",
        "| arrival_date_day_of_month    | int64        | Day of the month for arrival                                                |\n",
        "| stays_in_weekend_nights      | int64        | Nights stayed over weekend                                                  |\n",
        "| stays_in_week_nights         | int64        | Nights stayed during the week                                               |\n",
        "| adults                       | int64        | Number of adults                                                            |\n",
        "| children                     | float64      | Number of children                                                          |\n",
        "| babies                       | int64        | Number of babies                                                            |\n",
        "| meal                         | object       | Type of meal included in booking                                            |\n",
        "| country                      | object       | Country code of the guest                                                   |\n",
        "| market_segment               | object       | Market segment type (e.g., Online TA, Direct)                               |\n",
        "| distribution_channel         | object       | Booking distribution channel                                                |\n",
        "| is_repeated_guest            | int64        | Whether the guest is a returning guest (1) or not (0)                       |\n",
        "| previous_cancellations       | int64        | Number of past bookings canceled by the customer                           |\n",
        "| previous_bookings_not_canceled| int64       | Number of past bookings not canceled                                        |\n",
        "| reserved_room_type           | object       | Initial room type reserved                                                  |\n",
        "| assigned_room_type           | object       | Final room type assigned                                                    |\n",
        "| booking_changes              | int64        | Number of changes made to the booking                                       |\n",
        "| deposit_type                 | object       | Type of deposit required                                                    |\n",
        "| agent                        | float64      | Agent ID that made the booking (0 if none)                                  |\n",
        "| company                      | float64      | Company ID that made the booking (0 if none)                                |\n",
        "| days_in_waiting_list         | int64        | Days the booking was on the waiting list                                    |\n",
        "| customer_type                | object       | Type of customer (e.g., Contract, Transient)                                |\n",
        "| adr                          | float64      | Average Daily Rate                                                          |\n",
        "| required_car_parking_spaces  | int64        | Number of car parking spaces requested                                      |\n",
        "| total_of_special_requests    | int64        | Total number of special requests made                                       |\n",
        "| reservation_status           | object       | Status at time of reservation check (`Canceled`, `Check-Out`, etc.)         |\n",
        "| reservation_status_date      | object       | Date when reservation status was last updated                              |\n",
        "| total_guests                 | int64        | Sum of adults, children, and babies (added column during cleaning)          |\n"
      ],
      "metadata": {
        "id": "KdhAisQ2LOrK"
      }
    },
    {
      "cell_type": "code",
      "source": [],
      "metadata": {
        "id": "pcsztRarLQKF"
      },
      "execution_count": null,
      "outputs": []
    }
  ]
}